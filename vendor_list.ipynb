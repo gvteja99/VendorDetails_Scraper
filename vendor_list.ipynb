{
 "cells": [
  {
   "cell_type": "code",
   "execution_count": null,
   "id": "38fa01c6",
   "metadata": {},
   "outputs": [],
   "source": [
    "from IPython.display import clear_output\n",
    "clear_output(wait=True)\n"
   ]
  },
  {
   "cell_type": "code",
   "execution_count": null,
   "id": "cb1896f9",
   "metadata": {},
   "outputs": [],
   "source": [
    "from selenium import webdriver\n",
    "from selenium.webdriver.chrome.service import Service\n",
    "from webdriver_manager.chrome import ChromeDriverManager\n",
    "from selenium.webdriver.support.ui import WebDriverWait\n",
    "from selenium.webdriver.support import expected_conditions as EC\n",
    "from selenium.webdriver.common.by import By\n",
    "import time\n",
    "from tqdm import tqdm\n",
    "import pandas as pd"
   ]
  },
  {
   "cell_type": "code",
   "execution_count": null,
   "id": "d2f07b87",
   "metadata": {},
   "outputs": [],
   "source": [
    "browser = webdriver.Chrome(service=Service(ChromeDriverManager().install()))"
   ]
  },
  {
   "cell_type": "code",
   "execution_count": null,
   "id": "37f9e02a",
   "metadata": {},
   "outputs": [],
   "source": [
    "browser.get(\"https://pmsvanidhi.mohua.gov.in/Schemes/SearchVendor\")"
   ]
  },
  {
   "cell_type": "code",
   "execution_count": null,
   "id": "c944a6cb",
   "metadata": {},
   "outputs": [],
   "source": [
    "state = browser.find_element(By.ID, \"StateId\")"
   ]
  },
  {
   "cell_type": "code",
   "execution_count": null,
   "id": "80e900c2",
   "metadata": {},
   "outputs": [],
   "source": [
    "#Enter the state\n",
    "stateName = \"GUJARAT\"\n",
    "state.send_keys(stateName)"
   ]
  },
  {
   "cell_type": "code",
   "execution_count": null,
   "id": "e58e80d2",
   "metadata": {},
   "outputs": [],
   "source": [
    "#Enter the ULB Names in a list\n",
    "ULBNAMES = ['Ahmedabad']"
   ]
  },
  {
   "cell_type": "code",
   "execution_count": null,
   "id": "9a51306f",
   "metadata": {},
   "outputs": [],
   "source": [
    "def extract_info(li):\n",
    "    \n",
    "    data = {}\n",
    "\n",
    "    # Extracting SRN No\n",
    "    srn_no = li.find_element(By.XPATH, \".//div[@class='card-inner']/h5\").text\n",
    "    data[\"SRN No\"] = srn_no\n",
    "\n",
    "    # Extracting SV Name\n",
    "    sv_name = li.find_element(By.XPATH, \".//th[text()='SV Name']/../following-sibling::tr[1]/td[1]\").text\n",
    "    data[\"SV Name\"] = sv_name.strip()\n",
    "\n",
    "    # Extracting Father’s Name/ Spouse Name\n",
    "    father_or_spouse_name = li.find_element(By.XPATH, \".//th[text()='Father’s Name/ Spouse Name']/../following-sibling::tr[1]/td[2]\").text\n",
    "    data[\"Father’s Name/ Spouse Name\"] = father_or_spouse_name.strip()\n",
    "    \n",
    "    collapseButton = li.find_element(By.CLASS_NAME, \"accordion-btn\")\n",
    "    collapseButton.click()\n",
    "    time.sleep(0.5)\n",
    "\n",
    "    # Extracting ULB Name, Gender, Age, DOB\n",
    "    second_row = li.find_element(By.CLASS_NAME, \"collapse\").find_element(By.XPATH, \".//div/table/tbody/tr[2]\")\n",
    "    items = second_row.find_elements(By.TAG_NAME, \"td\")\n",
    "    values = [item.text for item in items] \n",
    "    \n",
    "    data[\"ULB Name\"] = values[0]\n",
    "    data[\"Gender\"] = values[1]\n",
    "    data[\"Age\"] = values[2]\n",
    "    data[\"DOB\"] = values[3]\n",
    "\n",
    "    return data\n"
   ]
  },
  {
   "cell_type": "code",
   "execution_count": null,
   "id": "4c3c1c02",
   "metadata": {},
   "outputs": [],
   "source": [
    "allData = []"
   ]
  },
  {
   "cell_type": "code",
   "execution_count": null,
   "id": "68719b0c",
   "metadata": {
    "scrolled": true
   },
   "outputs": [],
   "source": [
    "\n",
    "for ULBNAME in ULBNAMES:\n",
    "    ulbName = browser.find_element(By.ID, \"_ULBName\")\n",
    "    ulbName.send_keys(ULBNAME)\n",
    "\n",
    "    searchButton = browser.find_element(By.CLASS_NAME, \"ser-btn\")\n",
    "    searchButton.click()\n",
    "    \n",
    "    time.sleep(5)\n",
    "\n",
    "\n",
    "    pageNo = browser.find_element(By.XPATH, './html/body/section[2]/div/div/div[2]/form/div/div[2]/table/tbody/tr/td/div/ul/li[3]').text.strip().split()[-1]\n",
    "    pageNo = int(pageNo)\n",
    "\n",
    "\n",
    "    for currPage in tqdm(range(pageNo)):\n",
    "\n",
    "        listItems = browser.find_elements(By.CLASS_NAME, \"search-info-card\")\n",
    "        if not listItems:\n",
    "            break\n",
    "\n",
    "        for listItem in listItems:\n",
    "            try:\n",
    "                data = extract_info(listItem)\n",
    "                data['Page'] = str(currPage+1)\n",
    "                allData.append(data)\n",
    "            except Exception as e:\n",
    "                print(f\"Error extracting data: {e}\")\n",
    "\n",
    "        try:\n",
    "            nextButton = browser.find_element(By.XPATH, './html/body/section[2]/div/div/div[2]/form/div/div[2]/table/tbody/tr/td/div/ul/li[4]/a')\n",
    "            nextButton.click()\n",
    "\n",
    "            time.sleep(10)\n",
    "\n",
    "            # Wait for the new page to load\n",
    "            WebDriverWait(browser, 10).until(EC.presence_of_element_located((By.CLASS_NAME, \"search-info-card\")))\n",
    "        except Exception as e:\n",
    "            print(f\"Error navigating to next page: {e}\")\n",
    "\n",
    "\n"
   ]
  },
  {
   "cell_type": "code",
   "execution_count": null,
   "id": "6487aa41",
   "metadata": {},
   "outputs": [],
   "source": []
  },
  {
   "cell_type": "code",
   "execution_count": null,
   "id": "d7d14b7f",
   "metadata": {},
   "outputs": [],
   "source": [
    "df = pd.DataFrame(allData)"
   ]
  },
  {
   "cell_type": "code",
   "execution_count": null,
   "id": "1a0c7ca3",
   "metadata": {},
   "outputs": [],
   "source": [
    "df.to_csv('vendor_list.csv', index=False)"
   ]
  },
  {
   "cell_type": "code",
   "execution_count": null,
   "id": "b2957c7f",
   "metadata": {},
   "outputs": [],
   "source": []
  },
  {
   "cell_type": "code",
   "execution_count": null,
   "id": "52f508d5",
   "metadata": {},
   "outputs": [],
   "source": []
  }
 ],
 "metadata": {
  "kernelspec": {
   "display_name": "Python 3 (ipykernel)",
   "language": "python",
   "name": "python3"
  },
  "language_info": {
   "codemirror_mode": {
    "name": "ipython",
    "version": 3
   },
   "file_extension": ".py",
   "mimetype": "text/x-python",
   "name": "python",
   "nbconvert_exporter": "python",
   "pygments_lexer": "ipython3",
   "version": "3.11.3"
  }
 },
 "nbformat": 4,
 "nbformat_minor": 5
}
